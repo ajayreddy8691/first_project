{
  "cells": [
    {
      "cell_type": "code",
      "execution_count": null,
      "metadata": {
        "colab": {
          "base_uri": "https://localhost:8080/"
        },
        "id": "EolhXbLF-813",
        "outputId": "bc7da061-7845-4c07-b916-cfc91f0e01ab"
      },
      "outputs": [
        {
          "ename": "",
          "evalue": "",
          "output_type": "error",
          "traceback": [
            "\u001b[1;31mRunning cells with 'Python 3.9.6' requires the ipykernel package.\n",
            "\u001b[1;31m<a href='command:jupyter.createPythonEnvAndSelectController'>Create a Python Environment</a> with the required packages.\n",
            "\u001b[1;31mOr install 'ipykernel' using the command: '/usr/bin/python3 -m pip install ipykernel -U --user --force-reinstall'"
          ]
        }
      ],
      "source": [
        "import warnings\n",
        "import itertools\n",
        "\n",
        "import pandas as pd\n",
        "import numpy as np\n",
        "import matplotlib\n",
        "import matplotlib.pyplot as plt\n",
        "import seaborn as sns\n",
        "from tqdm import tqdm\n",
        "\n",
        "import statsmodels.api as sm\n",
        "from sklearn.metrics import r2_score\n",
        "from fbprophet import Prophet"
      ]
    },
    {
      "cell_type": "code",
      "execution_count": null,
      "metadata": {
        "id": "JGqOfSGM_Fbj"
      },
      "outputs": [],
      "source": [
        "warnings.filterwarnings(\"ignore\")\n",
        "plt.style.use('fivethirtyeight')\n",
        "matplotlib.rcParams['axes.labelsize'] = 16\n",
        "matplotlib.rcParams['xtick.labelsize'] = 14\n",
        "matplotlib.rcParams['ytick.labelsize'] = 14\n",
        "matplotlib.rcParams['text.color'] = 'k'\n",
        "matplotlib.rcParams['figure.figsize'] = (30,6)\n",
        "matplotlib.rcParams['axes.titlesize']= 20"
      ]
    },
    {
      "cell_type": "code",
      "execution_count": null,
      "metadata": {
        "id": "AL8T2x4C_KIi"
      },
      "outputs": [],
      "source": [
        "def mapperDictGenerator(df, label):\n",
        "  d= dict()\n",
        "  factorized= pd.factorize(df[label])\n",
        "  for i, _ in enumerate(factorized[1]):\n",
        "    d[i]= _\n",
        "  return factorized[0], d"
      ]
    },
    {
      "cell_type": "code",
      "execution_count": null,
      "metadata": {
        "colab": {
          "base_uri": "https://localhost:8080/",
          "height": 334
        },
        "id": "ISLo1tft_Mls",
        "outputId": "a9a337c0-d120-4d1e-fab3-e1f0a8758492"
      },
      "outputs": [],
      "source": [
        "df=pd.read_csv('MCI_2014_to_2019.csv')\n",
        "df.head()"
      ]
    },
    {
      "cell_type": "code",
      "execution_count": null,
      "metadata": {
        "colab": {
          "base_uri": "https://localhost:8080/",
          "height": 307
        },
        "id": "nynCsoR5YweC",
        "outputId": "d644b646-dbb0-4dad-d098-0b6ce95ecae1"
      },
      "outputs": [],
      "source": [
        "df.describe()"
      ]
    },
    {
      "cell_type": "code",
      "execution_count": null,
      "metadata": {
        "colab": {
          "base_uri": "https://localhost:8080/",
          "height": 348
        },
        "id": "KdiMBY1U_T2Y",
        "outputId": "aad7c96a-8789-4b89-bc0e-57336293102c"
      },
      "outputs": [],
      "source": [
        "plt.figure(figsize=(30,10))\n",
        "MCI= df.groupby('MCI',as_index=False).size()\n",
        "assaultTypes= df[df.MCI=='Assault'].groupby('offence', as_index=False).size()\n",
        "autoTheftTypes= df[df.MCI=='Auto Theft'].groupby('offence', as_index=False).size()\n",
        "\n",
        "plt.subplot(221)\n",
        "sns.barplot(x='MCI', y='size', data=MCI.sort_values(by='size', ascending=False))\n",
        "plt.title('Major Crime Indicator', fontsize='xx-large')\n",
        "plt.xlabel('Types of Crime', fontsize='x-large')\n",
        "plt.ylabel('Crime Count', fontsize='x-large')\n",
        "\n",
        "plt.subplot(222)\n",
        "sns.barplot(x='offence', y='size', data=assaultTypes.sort_values(by='size', ascending=False))\n",
        "plt.title('Offence Distribution by Assult', fontsize='xx-large')\n",
        "plt.xlabel('Types of Offence', fontsize='x-large')\n",
        "plt.ylabel('Offence Count', fontsize='x-large')\n",
        "plt.xticks(rotation=90)\n",
        "\n",
        "\n",
        "\n",
        "plt.show()"
      ]
    },
    {
      "cell_type": "code",
      "execution_count": null,
      "metadata": {
        "colab": {
          "base_uri": "https://localhost:8080/",
          "height": 463
        },
        "id": "CUw1UPd3W85p",
        "outputId": "0bf88b1a-b697-41e9-bb57-b8d15be81dd8"
      },
      "outputs": [],
      "source": [
        "plt.figure(figsize=(30,8))\n",
        "\n",
        "breakEnterTypes= df[df.MCI=='Break and Enter'].groupby('offence', as_index=False).size()\n",
        "robberyTypes= df[df.MCI=='Robbery'].groupby('offence', as_index=False).size()\n",
        "theftOverTypes= df[df.MCI=='Theft Over'].groupby('offence', as_index=False).size()\n",
        "\n",
        "plt.subplot(131)\n",
        "sns.barplot(x='offence', y='size', data=breakEnterTypes.sort_values(by='size', ascending=False))\n",
        "plt.title('Offence Distribution by Break and Enter', fontsize='xx-large')\n",
        "plt.xlabel('Types of Offence', fontsize='x-large')\n",
        "plt.ylabel('Offence Count', fontsize='x-large')\n",
        "plt.xticks(rotation=90)\n",
        "\n",
        "plt.subplot(132)\n",
        "sns.barplot(x='offence', y='size', data=robberyTypes.sort_values(by='size', ascending=False))\n",
        "plt.title('Offence Distribution by Robbery', fontsize='xx-large')\n",
        "plt.xlabel('Types of Offence', fontsize='x-large')\n",
        "plt.ylabel('Offence Count', fontsize='x-large')\n",
        "plt.xticks(rotation=90)\n",
        "\n",
        "plt.subplot(133)\n",
        "sns.barplot(x='offence', y='size', data=theftOverTypes.sort_values(by='size', ascending=False))\n",
        "plt.title('Offence Distribution by Theft Over', fontsize='xx-large')\n",
        "plt.xlabel('Types of Offence', fontsize='x-large')\n",
        "plt.ylabel('Offence Count', fontsize='x-large')\n",
        "plt.xticks(rotation=90)\n",
        "\n",
        "plt.show()"
      ]
    },
    {
      "cell_type": "code",
      "execution_count": null,
      "metadata": {
        "id": "Ds40-kPAXAkV"
      },
      "outputs": [],
      "source": [
        "df.reporteddate= pd.to_datetime(df.reporteddate)\n",
        "df['reportOnlyDate']= df.reporteddate.dt.date\n",
        "df.occurrencedate= pd.to_datetime(df.occurrencedate)\n",
        "df['occurrenceOnlyDate']= df.occurrencedate.dt.date\n",
        "df['delayInReporting']= (df.reportOnlyDate - df.occurrenceOnlyDate).dt.days"
      ]
    },
    {
      "cell_type": "code",
      "execution_count": null,
      "metadata": {
        "id": "P8qgxhjPXEs7"
      },
      "outputs": [],
      "source": [
        "# **Time Series Forcasting** Problem and Multipath Approach\n",
        "## Time Series Analysis for **Total Crime Count**"
      ]
    },
    {
      "cell_type": "code",
      "execution_count": null,
      "metadata": {
        "id": "ySnRz0YHXQXV"
      },
      "outputs": [],
      "source": [
        "df['count']= 1\n",
        "mci_monthwise = df.groupby(['occurrenceday','MCI'],as_index=False).agg({'count':'sum'})"
      ]
    },
    {
      "cell_type": "code",
      "execution_count": null,
      "metadata": {
        "colab": {
          "base_uri": "https://localhost:8080/",
          "height": 337
        },
        "id": "kEke0DvnXYBs",
        "outputId": "b6e3740c-1d86-45bc-df8f-058c2b840ac4"
      },
      "outputs": [],
      "source": [
        "mci_distribution = df.groupby(['occurrenceyear','occurrencemonth'],as_index=False).agg({'count':'sum'})\n",
        "mci_distribution['occurrenceyear']= mci_distribution['occurrenceyear'].astype('int').astype('str')\n",
        "mci_distribution['monthYear']= mci_distribution['occurrencemonth'] +', '+ mci_distribution['occurrenceyear']\n",
        "\n",
        "plt.grid('on')\n",
        "plt.plot(mci_distribution['monthYear'], mci_distribution['count'])\n",
        "plt.xlabel('Month Stream')\n",
        "plt.ylabel('Count of Crime')\n",
        "plt.title('Time Searies Distribution of Crime [Monthwise]')\n",
        "plt.xticks(np.arange(0, mci_distribution['monthYear'].shape[0], 3), rotation=90)\n",
        "plt.show()"
      ]
    },
    {
      "cell_type": "code",
      "execution_count": null,
      "metadata": {
        "id": "m6jDSf_UXdN8"
      },
      "outputs": [],
      "source": [
        "occuranceDateVsMciCount= df.groupby(['occurrenceOnlyDate','MCI'],as_index=False).agg({'count':'sum'})\n",
        "trimmedOccuranceDateVsMciCount= occuranceDateVsMciCount[occuranceDateVsMciCount.occurrenceOnlyDate > pd.to_datetime('2014-12-31').date()]"
      ]
    },
    {
      "cell_type": "code",
      "execution_count": null,
      "metadata": {
        "id": "RXdQHvpeXf6v"
      },
      "outputs": [],
      "source": [
        "# occuranceDateCount= df.groupby(['occurrenceOnlyDate'],as_index=False).agg({'count':'sum'})\n",
        "occuranceDateCount= df.groupby('occurrenceOnlyDate')['count'].sum().reset_index()\n",
        "trimmedOccuranceDateCount= occuranceDateCount[occuranceDateCount.occurrenceOnlyDate > pd.to_datetime('2014-12-31').date()]\n",
        "trimmedOccuranceDateCount['occurrenceOnlyDate']= pd.to_datetime(trimmedOccuranceDateCount.occurrenceOnlyDate)\n",
        "trimmedOccuranceDateCount.set_index('occurrenceOnlyDate', inplace=True)"
      ]
    },
    {
      "cell_type": "code",
      "execution_count": null,
      "metadata": {
        "colab": {
          "base_uri": "https://localhost:8080/",
          "height": 402
        },
        "id": "zN2X3Ec6XinD",
        "outputId": "2fd30c8f-0ede-45bb-9d97-e01fecb79117"
      },
      "outputs": [],
      "source": [
        "decomposition= sm.tsa.seasonal_decompose(trimmedOccuranceDateCount[trimmedOccuranceDateCount.index > pd.to_datetime('2018-12-31')], model='additive')\n",
        "\n",
        "plt.rcParams['figure.figsize'] = 24, 8\n",
        "decomposition.plot()\n",
        "\n",
        "plt.show()"
      ]
    },
    {
      "cell_type": "code",
      "execution_count": null,
      "metadata": {
        "colab": {
          "base_uri": "https://localhost:8080/",
          "height": 402
        },
        "id": "A4s3tE6vXlxW",
        "outputId": "632c7db8-c10e-4d96-e821-ec76563c82e1"
      },
      "outputs": [],
      "source": [
        "sns.distplot(trimmedOccuranceDateCount['count'])\n",
        "plt.show()"
      ]
    },
    {
      "cell_type": "code",
      "execution_count": null,
      "metadata": {
        "id": "Spqn53A0XprD"
      },
      "outputs": [],
      "source": [
        "trainData= trimmedOccuranceDateCount[trimmedOccuranceDateCount.index < pd.to_datetime('2018-12-31')]\n",
        "testData= trimmedOccuranceDateCount[trimmedOccuranceDateCount.index > pd.to_datetime('2018-12-31')]\n",
        "\n",
        "y= trimmedOccuranceDateCount['count'].resample('MS').mean()"
      ]
    },
    {
      "cell_type": "code",
      "execution_count": null,
      "metadata": {
        "id": "7iAMY28VXqZs"
      },
      "outputs": [],
      "source": [
        "## **SARIMA** Time Series Forcasting"
      ]
    },
    {
      "cell_type": "code",
      "execution_count": null,
      "metadata": {
        "colab": {
          "base_uri": "https://localhost:8080/"
        },
        "id": "nsyakmoWXyus",
        "outputId": "7582f350-0134-4a23-8820-c597e7d3a9df"
      },
      "outputs": [],
      "source": [
        "p = d = q = range(0, 2)\n",
        "pdq = list(itertools.product(p, d, q))\n",
        "seasonal_pdq = [(x[0], x[1], x[2], 12) for x in list(itertools.product(p, d, q))]\n",
        "\n",
        "print('Examples of parameter combinations for Seasonal ARIMA...')\n",
        "print('SARIMAX: {} x {}'.format(pdq[1], seasonal_pdq[1]))\n",
        "print('SARIMAX: {} x {}'.format(pdq[1], seasonal_pdq[2]))\n",
        "print('SARIMAX: {} x {}'.format(pdq[2], seasonal_pdq[3]))\n",
        "print('SARIMAX: {} x {}'.format(pdq[2], seasonal_pdq[4]))\n",
        "\n",
        "resultDict= dict()\n",
        "\n",
        "for param in pdq:\n",
        "    for param_seasonal in seasonal_pdq:\n",
        "        try:\n",
        "            mod= sm.tsa.statespace.SARIMAX(trainData, order=param, seasonal_order=param_seasonal, enforce_stationarity=False, enforce_invertibility=False)\n",
        "            results= mod.fit()\n",
        "            print('ARIMA{}x{}12 - AIC:{}'.format(param, param_seasonal, results.aic))\n",
        "            resultDict['ARIMA{}x{}12'.format(param, param_seasonal)]= results.aic\n",
        "        except:\n",
        "            continue\n",
        "\n",
        "minIndexARIMA= list(resultDict.keys())[(list(resultDict.values()).index(min(resultDict.values())))]\n",
        "print('MIN INDEX: {}'.format(minIndexARIMA))"
      ]
    },
    {
      "cell_type": "code",
      "execution_count": null,
      "metadata": {
        "colab": {
          "base_uri": "https://localhost:8080/",
          "height": 437
        },
        "id": "AZ8OJmHUjbhY",
        "outputId": "d6404c68-6b98-4016-9478-ae9fbbc5b479"
      },
      "outputs": [],
      "source": [
        "crimeforecast=results.forecast(steps=365)[0]\n",
        "testData"
      ]
    },
    {
      "cell_type": "code",
      "execution_count": null,
      "metadata": {
        "colab": {
          "base_uri": "https://localhost:8080/"
        },
        "id": "ca6785K2YANR",
        "outputId": "e816a9c7-3f56-4d7b-a8d4-640e1b6909e5"
      },
      "outputs": [],
      "source": [
        "SARIMAXmodel= sm.tsa.statespace.SARIMAX(trainData, order=(1, 1, 1), seasonal_order=(0, 1, 1, 12), enforce_stationarity=False, enforce_invertibility=False)\n",
        "SARIMAXresults= SARIMAXmodel.fit()\n",
        "print(SARIMAXresults.summary().tables[1])"
      ]
    },
    {
      "cell_type": "code",
      "execution_count": null,
      "metadata": {
        "colab": {
          "base_uri": "https://localhost:8080/",
          "height": 501
        },
        "id": "kpuAb8bybPXG",
        "outputId": "0d6e76bb-4002-4d6b-ddc1-f31e2e969347"
      },
      "outputs": [],
      "source": [
        "SARIMAXresults.plot_diagnostics(figsize=(20, 8))\n",
        "plt.show()"
      ]
    },
    {
      "cell_type": "code",
      "execution_count": null,
      "metadata": {
        "colab": {
          "base_uri": "https://localhost:8080/",
          "height": 427
        },
        "id": "UQ2agj-HbS0U",
        "outputId": "4a1a08b9-6d8f-48ef-a721-c0e2d38a97bd"
      },
      "outputs": [],
      "source": [
        "pred_uc= SARIMAXresults.get_forecast(steps=365)\n",
        "pred_ci= pred_uc.conf_int()\n",
        "ax = y.plot(label='observed', figsize=(20, 7))\n",
        "pred_uc.predicted_mean.plot(ax=ax, label='Forecast')\n",
        "ax.fill_between(pred_ci.index,\n",
        "                pred_ci.iloc[:, 0],\n",
        "                pred_ci.iloc[:, 1], color='k', alpha=.25)\n",
        "ax.set_xlabel('Date')\n",
        "ax.set_ylabel('Crime Count')\n",
        "plt.legend()\n",
        "plt.show()"
      ]
    },
    {
      "cell_type": "code",
      "execution_count": null,
      "metadata": {
        "colab": {
          "base_uri": "https://localhost:8080/"
        },
        "id": "BruHwB2obWcg",
        "outputId": "a4498bc7-7338-43d1-9cc5-62c1f6b3aeec"
      },
      "outputs": [],
      "source": [
        "testData['predValues']= pred_uc.predicted_mean.astype('int')\n",
        "\n",
        "testData['lowerCount']= pred_ci[pred_ci.index >= testData.index.min()]['lower count']\n",
        "testData['upperCount']= pred_ci[pred_ci.index >= testData.index.min()]['upper count']\n",
        "\n",
        "mse= round(((testData['count'] - testData['predValues'])**2).mean(), 2)\n",
        "rmse= round(np.sqrt(mse), 2)\n",
        "ubmse= round(((testData['upperCount'] - testData['count'])**2).mean(), 2)\n",
        "ubrmse= round(np.sqrt(ubmse), 2)\n",
        "lbmse= round(((testData['lowerCount'] - testData['count'])**2).mean(), 2)\n",
        "lbrmse= round(np.sqrt(lbmse), 2)\n",
        "\n",
        "print('Mean Square Error: {}'.format(mse))\n",
        "print('Root Mean Square Error: {}'.format(rmse))\n",
        "print('Mean Square Error with Upper Envelop: {}'.format(ubmse))\n",
        "print('Root Mean Square Error with Upper Envelop: {}'.format(ubrmse))\n",
        "print('Mean Square Error with Lower Envelop: {}'.format(lbmse))\n",
        "print('Root Mean Square Error with Lower Envelop: {}'.format(lbrmse))\n",
        "print()\n",
        "print(testData.head())"
      ]
    },
    {
      "cell_type": "code",
      "execution_count": null,
      "metadata": {
        "id": "Nz2g5QhhfX04"
      },
      "outputs": [],
      "source": [
        "## **Prophet** Time Series\n"
      ]
    },
    {
      "cell_type": "code",
      "execution_count": null,
      "metadata": {
        "colab": {
          "base_uri": "https://localhost:8080/"
        },
        "id": "EKLM8SCKdbIG",
        "outputId": "511ea1b9-1982-4662-ba35-7638c2729e56"
      },
      "outputs": [],
      "source": [
        "trimmedOccuranceDateCountProphetFit= trainData.reset_index().rename(columns={'occurrenceOnlyDate': 'ds', 'count': 'y'})\n",
        "prophet_model= Prophet(daily_seasonality=True)\n",
        "prophet_model.fit(trimmedOccuranceDateCountProphetFit)"
      ]
    },
    {
      "cell_type": "code",
      "execution_count": null,
      "metadata": {
        "id": "oiUcZZjFffZk"
      },
      "outputs": [],
      "source": [
        "prophetForecast= prophet_model.make_future_dataframe(periods=365)\n",
        "prophetForecast= prophet_model.predict(prophetForecast)"
      ]
    },
    {
      "cell_type": "code",
      "execution_count": null,
      "metadata": {
        "colab": {
          "base_uri": "https://localhost:8080/",
          "height": 487
        },
        "id": "uVy55f4dfnYM",
        "outputId": "12d8c7d0-dbfc-435a-e808-726d9255963f"
      },
      "outputs": [],
      "source": [
        "plt.figure(figsize=(18, 6))\n",
        "prophet_model.plot(prophetForecast, xlabel = 'Occurrence Date', ylabel = 'Count')\n",
        "plt.legend()\n",
        "plt.title('Count TimeSeries');"
      ]
    },
    {
      "cell_type": "code",
      "execution_count": null,
      "metadata": {
        "colab": {
          "base_uri": "https://localhost:8080/"
        },
        "id": "TvrYKTH6frC7",
        "outputId": "7b8ba2ec-cbdc-47f0-d961-e8ea781eb439"
      },
      "outputs": [],
      "source": [
        "prophetForcast_yhat= prophetForecast[prophetForecast.ds >= pd.to_datetime('2019-01-01')].set_index('ds').loc[:, ['yhat', 'yhat_lower', 'yhat_upper']]\n",
        "prophetForcast_trend= prophetForecast[prophetForecast.ds >= pd.to_datetime('2019-01-01')].set_index('ds').loc[:, ['trend', 'trend_lower', 'trend_upper']]\n",
        "for _ in tqdm(prophetForcast_yhat.columns):\n",
        "  prophetForcast_yhat[_]= prophetForcast_yhat[_].astype('int')\n",
        "for _ in tqdm(prophetForcast_trend.columns):\n",
        "  prophetForcast_trend[_]= prophetForcast_trend[_].astype('int')"
      ]
    },
    {
      "cell_type": "code",
      "execution_count": null,
      "metadata": {
        "colab": {
          "base_uri": "https://localhost:8080/"
        },
        "id": "LG2XefTIfvUU",
        "outputId": "e81752c0-3ad3-4f58-ec58-935ad3c7117e"
      },
      "outputs": [],
      "source": [
        "mse= round(((testData['count'] - prophetForcast_yhat['yhat'])**2).mean(), 2)\n",
        "rmse= round(np.sqrt(mse), 2)\n",
        "ubmse= round(((prophetForcast_yhat['yhat_upper'] - testData['count'])**2).mean(), 2)\n",
        "ubrmse= round(np.sqrt(ubmse), 2)\n",
        "lbmse= round(((prophetForcast_yhat['yhat_lower'] - testData['count'])**2).mean(), 2)\n",
        "lbrmse= round(np.sqrt(lbmse), 2)\n",
        "\n",
        "print('Prophet Complete yHat Data Error Analysis')\n",
        "print()\n",
        "print('Mean Square Error: {}'.format(mse))\n",
        "print('Root Mean Square Error: {}'.format(rmse))\n",
        "print('Mean Square Error with Upper Envelop: {}'.format(ubmse))\n",
        "print('Root Mean Square Error with Upper Envelop: {}'.format(ubrmse))\n",
        "print('Mean Square Error with Lower Envelop: {}'.format(lbmse))\n",
        "print('Root Mean Square Error with Lower Envelop: {}'.format(lbrmse))\n",
        "print()\n",
        "print(prophetForcast_yhat.head())"
      ]
    },
    {
      "cell_type": "code",
      "execution_count": null,
      "metadata": {
        "colab": {
          "base_uri": "https://localhost:8080/"
        },
        "id": "WNm29qaLf1_n",
        "outputId": "97694940-4894-4ca1-92e0-2af5049053a9"
      },
      "outputs": [],
      "source": [
        "mse= round(((testData['predValues'] - prophetForcast_yhat['yhat'])**2).mean(), 2)\n",
        "rmse= round(np.sqrt(mse), 2)\n",
        "ubmse= round(((prophetForcast_yhat['yhat_upper'] - testData['upperCount'])**2).mean(), 2)\n",
        "ubrmse= round(np.sqrt(ubmse), 2)\n",
        "lbmse= round(((prophetForcast_yhat['yhat_lower'] - testData['lowerCount'])**2).mean(), 2)\n",
        "lbrmse= round(np.sqrt(lbmse), 2)\n",
        "\n",
        "print('Prophet vs ARIMA Forcasting Data Deviation Tendancy Analysis')\n",
        "print()\n",
        "print('Mean Square Error: {}'.format(mse))\n",
        "print('Root Mean Square Error: {}'.format(rmse))\n",
        "print('Mean Square Error with Upper Envelop: {}'.format(ubmse))\n",
        "print('Root Mean Square Error with Upper Envelop: {}'.format(ubrmse))\n",
        "print('Mean Square Error with Lower Envelop: {}'.format(lbmse))\n",
        "print('Root Mean Square Error with Lower Envelop: {}'.format(lbrmse))"
      ]
    },
    {
      "cell_type": "code",
      "execution_count": null,
      "metadata": {
        "colab": {
          "base_uri": "https://localhost:8080/",
          "height": 702
        },
        "id": "-FnCaWSzf6UI",
        "outputId": "0d3de192-a5e7-4446-c695-0744122f24ec"
      },
      "outputs": [],
      "source": [
        "plt.rcParams['figure.figsize']= 24, 12\n",
        "\n",
        "plt.subplot(221)\n",
        "plt.grid('on')\n",
        "plt.title('Prophet Forcast vs Original Crime Count')\n",
        "plt.plot(prophetForcast_yhat.index, testData['count'].iloc[:-1], lw=1)\n",
        "plt.plot(prophetForcast_yhat.index, prophetForcast_yhat['yhat'], lw=1, marker='+')\n",
        "plt.fill_between(prophetForcast_yhat.index, prophetForcast_yhat['yhat_upper'], prophetForcast_yhat['yhat_lower'], color='#f7ed25', alpha=.15)\n",
        "plt.xlabel('Date Stream')\n",
        "plt.ylabel('Count of Crime')\n",
        "plt.legend(['Original Count', 'Prophet yHat', 'Potential Envelop'])\n",
        "\n",
        "\n",
        "plt.subplot(222)\n",
        "plt.grid('on')\n",
        "plt.title('ARIMA Forcast vs Original Crime Count')\n",
        "plt.plot(testData.index, testData['count'], lw=1)\n",
        "plt.plot(testData.index, testData['predValues'], lw=1, marker='+')\n",
        "plt.fill_between(testData.index, testData['upperCount'], testData['lowerCount'], color='#f7ed25', alpha=.15)\n",
        "plt.xlabel('Date Stream')\n",
        "plt.ylabel('Count of Crime')\n",
        "plt.legend(['Original Count', 'ARIMA yHat', 'Potential Envelop'])\n",
        "\n",
        "plt.subplot(223)\n",
        "plt.grid('on')\n",
        "plt.title('ARIMA Forcast vs Prophet Forcast')\n",
        "plt.plot(prophetForcast_yhat.index, prophetForcast_yhat['yhat'], lw=1)\n",
        "plt.plot(testData.index[:-1], testData['predValues'][:-1], lw=1)\n",
        "plt.xlabel('Date Stream')\n",
        "plt.ylabel('Count of Crime')\n",
        "plt.legend(['Prophet Forcast', 'ARIMA Forcast'])\n",
        "\n",
        "plt.show()"
      ]
    },
    {
      "cell_type": "code",
      "execution_count": null,
      "metadata": {
        "colab": {
          "base_uri": "https://localhost:8080/"
        },
        "id": "wcTEr_DggGeM",
        "outputId": "7dc768a2-fce1-473f-c24e-9da2df97906c"
      },
      "outputs": [],
      "source": [
        "print('Different Major Crime Indicators', end='\\n\\n')\n",
        "for i, _ in enumerate(np.unique(df.MCI)):\n",
        "  print('{}. {}'.format(i, _))\n",
        "\n",
        "  mciDifferedResult= pd.DataFrame()"
      ]
    },
    {
      "cell_type": "code",
      "execution_count": null,
      "metadata": {
        "colab": {
          "base_uri": "https://localhost:8080/",
          "height": 454
        },
        "id": "r7F7yOB3gMpA",
        "outputId": "4675f439-33c6-4a35-ec96-23e34bdaa7dd"
      },
      "outputs": [],
      "source": [
        "assaultTimewiseData= df[df.MCI == 'Assault'].groupby('occurrenceOnlyDate')['count'].sum().reset_index()\n",
        "assaultTimewiseData= assaultTimewiseData[assaultTimewiseData.occurrenceOnlyDate > pd.to_datetime('2014-12-31').date()].reset_index().rename(columns={'occurrenceOnlyDate': 'ds', 'count': 'y'})\n",
        "try:\n",
        "  assaultTimewiseData.drop('index', axis=1, inplace=True)\n",
        "except:\n",
        "  pass\n",
        "\n",
        "assaultProphetModel= Prophet(daily_seasonality=True).fit(assaultTimewiseData[assaultTimewiseData.ds < pd.to_datetime('2019-01-01').date()])\n",
        "assaultProphetForecast= assaultProphetModel.make_future_dataframe(periods=365)\n",
        "assaultProphetForecast= assaultProphetModel.predict(assaultProphetForecast)\n",
        "\n",
        "assaultProphetModel.plot(assaultProphetForecast, xlabel = 'Occurrence Date', ylabel = 'Count')\n",
        "plt.title('Assault Count TimeSeries');"
      ]
    },
    {
      "cell_type": "code",
      "execution_count": null,
      "metadata": {
        "colab": {
          "base_uri": "https://localhost:8080/",
          "height": 438
        },
        "id": "bdDjX_npgaon",
        "outputId": "9b6b10a4-1926-485a-bce2-72d8df88b220"
      },
      "outputs": [],
      "source": [
        "comparableData= assaultTimewiseData[assaultTimewiseData.ds >= pd.to_datetime('2019-01-01').date()]\n",
        "comparableData['yhat']= assaultProphetForecast['yhat'].astype('int')\n",
        "comparableData['yhatLower']= assaultProphetForecast['yhat_lower'].astype('int')\n",
        "comparableData['yhatUpper']= assaultProphetForecast['yhat_upper'].astype('int')\n",
        "\n",
        "mciDifferedResult['Assault']= comparableData.yhat\n",
        "mciDifferedResult['lower']= comparableData.yhatLower\n",
        "mciDifferedResult['upper']= comparableData.yhatUpper\n",
        "\n",
        "plt.rcParams['figure.figsize']= 12,6\n",
        "\n",
        "plt.grid('on')\n",
        "plt.title('Prophet Forcast vs Original Crime Count [Assault]')\n",
        "plt.plot(comparableData.ds, comparableData['y'], lw=1)\n",
        "plt.plot(comparableData.ds, comparableData['yhat'], lw=1, marker='+')\n",
        "plt.fill_between(comparableData.ds, comparableData['yhatUpper'], comparableData['yhatLower'], color='#f7ed25', alpha=.15)\n",
        "plt.xlabel('Date Stream')\n",
        "plt.ylabel('Count of Crime')\n",
        "plt.legend(['Original Count', 'Prophet yHat', 'Potential Envelop'])\n",
        "plt.show()"
      ]
    },
    {
      "cell_type": "code",
      "execution_count": null,
      "metadata": {
        "colab": {
          "base_uri": "https://localhost:8080/",
          "height": 454
        },
        "id": "DTGxC8qDghx2",
        "outputId": "d7a5ae6f-e099-4f1a-8883-61af73349446"
      },
      "outputs": [],
      "source": [
        "autoTheftTimewiseData= df[df.MCI == 'Auto Theft'].groupby('occurrenceOnlyDate')['count'].sum().reset_index()\n",
        "autoTheftTimewiseData= autoTheftTimewiseData[autoTheftTimewiseData.occurrenceOnlyDate > pd.to_datetime('2014-12-31').date()].reset_index().rename(columns={'occurrenceOnlyDate': 'ds', 'count': 'y'})\n",
        "try:\n",
        "  autoTheftTimewiseData.drop('index', axis=1, inplace=True)\n",
        "except:\n",
        "  pass\n",
        "\n",
        "autoTheftProphetModel= Prophet(daily_seasonality=True).fit(autoTheftTimewiseData[autoTheftTimewiseData.ds < pd.to_datetime('2019-01-01').date()])\n",
        "autoTheftProphetForecast= autoTheftProphetModel.make_future_dataframe(periods=365)\n",
        "autoTheftProphetForecast= autoTheftProphetModel.predict(autoTheftProphetForecast)\n",
        "\n",
        "\n",
        "autoTheftProphetModel.plot(autoTheftProphetForecast, xlabel = 'Occurrence Date', ylabel = 'Count')\n",
        "plt.title('Auto Theft Count TimeSeries');"
      ]
    },
    {
      "cell_type": "code",
      "execution_count": null,
      "metadata": {
        "colab": {
          "base_uri": "https://localhost:8080/",
          "height": 438
        },
        "id": "CgxQLOuXgn8M",
        "outputId": "0c394b77-2f0a-48cd-86fc-919ce06cf7c2"
      },
      "outputs": [],
      "source": [
        "comparableData= autoTheftTimewiseData[autoTheftTimewiseData.ds >= pd.to_datetime('2019-01-01').date()]\n",
        "comparableData['yhat']= autoTheftProphetForecast['yhat'].astype('int')\n",
        "comparableData['yhatLower']= autoTheftProphetForecast['yhat_lower'].astype('int')\n",
        "comparableData['yhatUpper']= autoTheftProphetForecast['yhat_upper'].astype('int')\n",
        "\n",
        "mciDifferedResult['AutoTheft']= comparableData.yhat\n",
        "mciDifferedResult['lower']= mciDifferedResult['lower'] + comparableData.yhatLower\n",
        "mciDifferedResult['upper']= mciDifferedResult['upper'] + comparableData.yhatUpper\n",
        "\n",
        "\n",
        "plt.grid('on')\n",
        "plt.title('Prophet Forcast vs Original Crime Count [Assault]')\n",
        "plt.plot(comparableData.ds, comparableData['y'], lw=1)\n",
        "plt.plot(comparableData.ds, comparableData['yhat'], lw=1, marker='+')\n",
        "plt.fill_between(comparableData.ds, comparableData['yhatUpper'], comparableData['yhatLower'], color='#f7ed25', alpha=.15)\n",
        "plt.xlabel('Date Stream')\n",
        "plt.ylabel('Count of Crime')\n",
        "plt.legend(['Original Count', 'Prophet yHat', 'Potential Envelop'])\n",
        "plt.show()"
      ]
    }
  ],
  "metadata": {
    "colab": {
      "collapsed_sections": [],
      "name": "Crime_Pred_analysis.ipynb",
      "provenance": []
    },
    "kernelspec": {
      "display_name": "Python 3",
      "name": "python3"
    },
    "language_info": {
      "name": "python",
      "version": "3.9.6"
    }
  },
  "nbformat": 4,
  "nbformat_minor": 0
}
